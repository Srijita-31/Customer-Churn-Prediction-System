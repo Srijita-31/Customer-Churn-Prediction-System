{
 "cells": [
  {
   "cell_type": "code",
   "execution_count": 1,
   "id": "1d7d76d4-f764-450e-a78d-e680734cf1ac",
   "metadata": {},
   "outputs": [
    {
     "name": "stdout",
     "output_type": "stream",
     "text": [
      "First 5 Rows of Data:\n",
      "   customerID  gender  SeniorCitizen Partner Dependents  tenure PhoneService  \\\n",
      "0  7590-VHVEG  Female              0     Yes         No       1           No   \n",
      "1  5575-GNVDE    Male              0      No         No      34          Yes   \n",
      "2  3668-QPYBK    Male              0      No         No       2          Yes   \n",
      "3  7795-CFOCW    Male              0      No         No      45           No   \n",
      "4  9237-HQITU  Female              0      No         No       2          Yes   \n",
      "\n",
      "      MultipleLines InternetService OnlineSecurity  ... DeviceProtection  \\\n",
      "0  No phone service             DSL             No  ...               No   \n",
      "1                No             DSL            Yes  ...              Yes   \n",
      "2                No             DSL            Yes  ...               No   \n",
      "3  No phone service             DSL            Yes  ...              Yes   \n",
      "4                No     Fiber optic             No  ...               No   \n",
      "\n",
      "  TechSupport StreamingTV StreamingMovies        Contract PaperlessBilling  \\\n",
      "0          No          No              No  Month-to-month              Yes   \n",
      "1          No          No              No        One year               No   \n",
      "2          No          No              No  Month-to-month              Yes   \n",
      "3         Yes          No              No        One year               No   \n",
      "4          No          No              No  Month-to-month              Yes   \n",
      "\n",
      "               PaymentMethod MonthlyCharges  TotalCharges Churn  \n",
      "0           Electronic check          29.85         29.85    No  \n",
      "1               Mailed check          56.95        1889.5    No  \n",
      "2               Mailed check          53.85        108.15   Yes  \n",
      "3  Bank transfer (automatic)          42.30       1840.75    No  \n",
      "4           Electronic check          70.70        151.65   Yes  \n",
      "\n",
      "[5 rows x 21 columns]\n",
      "\n",
      "Data Information:\n",
      "<class 'pandas.core.frame.DataFrame'>\n",
      "RangeIndex: 7043 entries, 0 to 7042\n",
      "Data columns (total 21 columns):\n",
      " #   Column            Non-Null Count  Dtype  \n",
      "---  ------            --------------  -----  \n",
      " 0   customerID        7043 non-null   object \n",
      " 1   gender            7043 non-null   object \n",
      " 2   SeniorCitizen     7043 non-null   int64  \n",
      " 3   Partner           7043 non-null   object \n",
      " 4   Dependents        7043 non-null   object \n",
      " 5   tenure            7043 non-null   int64  \n",
      " 6   PhoneService      7043 non-null   object \n",
      " 7   MultipleLines     7043 non-null   object \n",
      " 8   InternetService   7043 non-null   object \n",
      " 9   OnlineSecurity    7043 non-null   object \n",
      " 10  OnlineBackup      7043 non-null   object \n",
      " 11  DeviceProtection  7043 non-null   object \n",
      " 12  TechSupport       7043 non-null   object \n",
      " 13  StreamingTV       7043 non-null   object \n",
      " 14  StreamingMovies   7043 non-null   object \n",
      " 15  Contract          7043 non-null   object \n",
      " 16  PaperlessBilling  7043 non-null   object \n",
      " 17  PaymentMethod     7043 non-null   object \n",
      " 18  MonthlyCharges    7043 non-null   float64\n",
      " 19  TotalCharges      7043 non-null   object \n",
      " 20  Churn             7043 non-null   object \n",
      "dtypes: float64(1), int64(2), object(18)\n",
      "memory usage: 1.1+ MB\n"
     ]
    }
   ],
   "source": [
    "import pandas as pd\n",
    "import os\n",
    "\n",
    "# Define the path to your data file\n",
    "data_path = os.path.join('..', 'data', 'WA_Fn-UseC_-Telco-Customer-Churn.csv') \n",
    "\n",
    "# Load the dataset\n",
    "df = pd.read_csv(data_path)\n",
    "\n",
    "# Display the first 5 rows and the column information\n",
    "print(\"First 5 Rows of Data:\")\n",
    "print(df.head())\n",
    "print(\"\\nData Information:\")\n",
    "df.info()"
   ]
  },
  {
   "cell_type": "code",
   "execution_count": 3,
   "id": "32f1ee99-417d-44c7-aefb-b81428082056",
   "metadata": {},
   "outputs": [
    {
     "name": "stdout",
     "output_type": "stream",
     "text": [
      "Missing values per column after correction:\n",
      "customerID           0\n",
      "gender               0\n",
      "SeniorCitizen        0\n",
      "Partner              0\n",
      "Dependents           0\n",
      "tenure               0\n",
      "PhoneService         0\n",
      "MultipleLines        0\n",
      "InternetService      0\n",
      "OnlineSecurity       0\n",
      "OnlineBackup         0\n",
      "DeviceProtection     0\n",
      "TechSupport          0\n",
      "StreamingTV          0\n",
      "StreamingMovies      0\n",
      "Contract             0\n",
      "PaperlessBilling     0\n",
      "PaymentMethod        0\n",
      "MonthlyCharges       0\n",
      "TotalCharges        11\n",
      "Churn                0\n",
      "dtype: int64\n",
      "\n",
      "DataFrame size after dropping rows with missing values:\n",
      "Rows: 7032\n"
     ]
    }
   ],
   "source": [
    "# 1. Identify and handle missing values in 'TotalCharges'\n",
    "# The info() output showed 'TotalCharges' is type 'object', which usually means it contains non-numeric values (like a space ' ')\n",
    "# First, convert to numeric, coercing errors (the spaces) to NaN\n",
    "df['TotalCharges'] = pd.to_numeric(df['TotalCharges'], errors='coerce')\n",
    "\n",
    "# Now check for any missing (NaN) values across the entire DataFrame\n",
    "print(\"Missing values per column after correction:\")\n",
    "print(df.isnull().sum())\n",
    "\n",
    "# Fill the few resulting missing values in TotalCharges with the mean (or drop them, but filling is often better for a few)\n",
    "# The count will be very low (usually 11 in this dataset)\n",
    "df.dropna(inplace=True) \n",
    "# Or: df['TotalCharges'].fillna(df['TotalCharges'].mean(), inplace=True)\n",
    "# For simplicity, let's drop them as the number is small and we want clean data for the model\n",
    "\n",
    "print(\"\\nDataFrame size after dropping rows with missing values:\")\n",
    "print(f\"Rows: {len(df)}\")"
   ]
  },
  {
   "cell_type": "code",
   "execution_count": 5,
   "id": "65baea0f-69ac-4194-8c17-d0ea7e232a1e",
   "metadata": {},
   "outputs": [
    {
     "name": "stdout",
     "output_type": "stream",
     "text": [
      "\n",
      "Churn Distribution:\n",
      "Churn\n",
      "No     5163\n",
      "Yes    1869\n",
      "Name: count, dtype: int64\n",
      "\n",
      "Overall Churn Rate (Business KPI): 26.58%\n"
     ]
    }
   ],
   "source": [
    "# 2. Analyze the 'Churn' (Target) variable\n",
    "churn_counts = df['Churn'].value_counts()\n",
    "churn_rate = churn_counts['Yes'] / len(df) * 100\n",
    "\n",
    "print(\"\\nChurn Distribution:\")\n",
    "print(churn_counts)\n",
    "print(f\"\\nOverall Churn Rate (Business KPI): {churn_rate:.2f}%\")"
   ]
  },
  {
   "cell_type": "code",
   "execution_count": 8,
   "id": "4aec80d6-ecba-45df-bae8-2ee89999515c",
   "metadata": {},
   "outputs": [
    {
     "data": {
      "image/png": "[encoded data removed]",
      "text/plain": [
       "<Figure size 600x400 with 1 Axes>"
      ]
     },
     "metadata": {},
     "output_type": "display_data"
    },
    {
     "name": "stdout",
     "output_type": "stream",
     "text": [
      "\n",
      "Churn Rate by Senior Citizen Status:\n",
      "SeniorCitizen\n",
      "0    23.65\n",
      "1    41.68\n",
      "Name: Yes, dtype: float64\n"
     ]
    }
   ],
   "source": [
    "import matplotlib.pyplot as plt\n",
    "import seaborn as sns\n",
    "\n",
    "# Set up the visualization style\n",
    "sns.set_style(\"whitegrid\")\n",
    "\n",
    "# Analyze Churn vs. Senior Citizen Status (a key demographic)\n",
    "plt.figure(figsize=(6, 4))\n",
    "sns.countplot(x='SeniorCitizen', hue='Churn', data=df)\n",
    "plt.title('Churn Count by Senior Citizen Status')\n",
    "plt.xlabel('Senior Citizen (0=No, 1=Yes)')\n",
    "plt.show()\n",
    "\n",
    "# Calculate Churn Rate by Senior Citizen Status\n",
    "senior_churn_rate = df.groupby('SeniorCitizen')['Churn'].value_counts(normalize=True).mul(100).unstack()['Yes']\n",
    "print(\"\\nChurn Rate by Senior Citizen Status:\")\n",
    "print(senior_churn_rate.round(2))"
   ]
  },
  {
   "cell_type": "code",
   "execution_count": 10,
   "id": "ad6c7d4d-4945-432a-aa65-689a2caf77ee",
   "metadata": {},
   "outputs": [],
   "source": [
    "# Drop Customer ID\n",
    "df.drop('customerID', axis=1, inplace=True)"
   ]
  },
  {
   "cell_type": "code",
   "execution_count": 12,
   "id": "185b70a1-f7f6-4035-9a98-2fbd60d43ca8",
   "metadata": {},
   "outputs": [
    {
     "name": "stderr",
     "output_type": "stream",
     "text": [
      "C:\\Users\\HP\\AppData\\Local\\Temp\\ipykernel_6512\\1122920016.py:2: FutureWarning: Downcasting behavior in `replace` is deprecated and will be removed in a future version. To retain the old behavior, explicitly call `result.infer_objects(copy=False)`. To opt-in to the future behavior, set `pd.set_option('future.no_silent_downcasting', True)`\n",
      "  df['Churn'] = df['Churn'].replace({'Yes': 1, 'No': 0})\n"
     ]
    }
   ],
   "source": [
    "# Convert 'Churn' from text to 1s and 0s\n",
    "df['Churn'] = df['Churn'].replace({'Yes': 1, 'No': 0})"
   ]
  },
  {
   "cell_type": "code",
   "execution_count": 14,
   "id": "4a79437f-1322-4fee-912d-90b15659f62b",
   "metadata": {},
   "outputs": [
    {
     "name": "stdout",
     "output_type": "stream",
     "text": [
      "Shape of X (features) after encoding:\n",
      "(7032, 30)\n",
      "\n",
      "First 5 rows of the encoded features:\n",
      "   SeniorCitizen  tenure  MonthlyCharges  TotalCharges  gender_Male  \\\n",
      "0              0       1           29.85         29.85        False   \n",
      "1              0      34           56.95       1889.50         True   \n",
      "2              0       2           53.85        108.15         True   \n",
      "3              0      45           42.30       1840.75         True   \n",
      "4              0       2           70.70        151.65        False   \n",
      "\n",
      "   Partner_Yes  Dependents_Yes  PhoneService_Yes  \\\n",
      "0         True           False             False   \n",
      "1        False           False              True   \n",
      "2        False           False              True   \n",
      "3        False           False             False   \n",
      "4        False           False              True   \n",
      "\n",
      "   MultipleLines_No phone service  MultipleLines_Yes  ...  \\\n",
      "0                            True              False  ...   \n",
      "1                           False              False  ...   \n",
      "2                           False              False  ...   \n",
      "3                            True              False  ...   \n",
      "4                           False              False  ...   \n",
      "\n",
      "   StreamingTV_No internet service  StreamingTV_Yes  \\\n",
      "0                            False            False   \n",
      "1                            False            False   \n",
      "2                            False            False   \n",
      "3                            False            False   \n",
      "4                            False            False   \n",
      "\n",
      "   StreamingMovies_No internet service  StreamingMovies_Yes  \\\n",
      "0                                False                False   \n",
      "1                                False                False   \n",
      "2                                False                False   \n",
      "3                                False                False   \n",
      "4                                False                False   \n",
      "\n",
      "   Contract_One year  Contract_Two year  PaperlessBilling_Yes  \\\n",
      "0              False              False                  True   \n",
      "1               True              False                 False   \n",
      "2              False              False                  True   \n",
      "3               True              False                 False   \n",
      "4              False              False                  True   \n",
      "\n",
      "   PaymentMethod_Credit card (automatic)  PaymentMethod_Electronic check  \\\n",
      "0                                  False                            True   \n",
      "1                                  False                           False   \n",
      "2                                  False                           False   \n",
      "3                                  False                           False   \n",
      "4                                  False                            True   \n",
      "\n",
      "   PaymentMethod_Mailed check  \n",
      "0                       False  \n",
      "1                        True  \n",
      "2                        True  \n",
      "3                       False  \n",
      "4                       False  \n",
      "\n",
      "[5 rows x 30 columns]\n"
     ]
    }
   ],
   "source": [
    "# Separate features (X) and target (y)\n",
    "X = df.drop('Churn', axis=1)\n",
    "y = df['Churn']\n",
    "\n",
    "# Identify all categorical features (which are currently 'object' type)\n",
    "categorical_features = X.select_dtypes(include='object').columns\n",
    "\n",
    "# Apply One-Hot Encoding\n",
    "X_encoded = pd.get_dummies(X, columns=categorical_features, drop_first=True)\n",
    "\n",
    "print(\"Shape of X (features) after encoding:\")\n",
    "print(X_encoded.shape)\n",
    "print(\"\\nFirst 5 rows of the encoded features:\")\n",
    "print(X_encoded.head())"
   ]
  },
  {
   "cell_type": "code",
   "execution_count": 16,
   "id": "4db6dfc8-6954-4356-aa49-8a4c84dc36aa",
   "metadata": {},
   "outputs": [
    {
     "name": "stdout",
     "output_type": "stream",
     "text": [
      "Training set size: 5625 rows\n",
      "Testing set size: 1407 rows\n"
     ]
    }
   ],
   "source": [
    "from sklearn.model_selection import train_test_split\n",
    "\n",
    "# Split the data (80% for training, 20% for testing)\n",
    "X_train, X_test, y_train, y_test = train_test_split(\n",
    "    X_encoded, y, test_size=0.2, random_state=42, stratify=y\n",
    ")\n",
    "\n",
    "print(f\"Training set size: {len(X_train)} rows\")\n",
    "print(f\"Testing set size: {len(X_test)} rows\")"
   ]
  },
  {
   "cell_type": "code",
   "execution_count": 18,
   "id": "e5100d06-07eb-46e4-af43-bbbb14ecbea4",
   "metadata": {},
   "outputs": [
    {
     "name": "stderr",
     "output_type": "stream",
     "text": [
      "C:\\Users\\HP\\anaconda3\\Lib\\site-packages\\sklearn\\linear_model\\_logistic.py:469: ConvergenceWarning: lbfgs failed to converge (status=1):\n",
      "STOP: TOTAL NO. of ITERATIONS REACHED LIMIT.\n",
      "\n",
      "Increase the number of iterations (max_iter) or scale the data as shown in:\n",
      "    https://scikit-learn.org/stable/modules/preprocessing.html\n",
      "Please also refer to the documentation for alternative solver options:\n",
      "    https://scikit-learn.org/stable/modules/linear_model.html#logistic-regression\n",
      "  n_iter_i = _check_optimize_result(\n"
     ]
    }
   ],
   "source": [
    "from sklearn.linear_model import LogisticRegression\n",
    "\n",
    "# Initialize and train the model\n",
    "log_reg_model = LogisticRegression(max_iter=1000, random_state=42)\n",
    "log_reg_model.fit(X_train, y_train)\n",
    "\n",
    "# Make predictions on the test set\n",
    "y_pred = log_reg_model.predict(X_test)"
   ]
  },
  {
   "cell_type": "code",
   "execution_count": 20,
   "id": "2b54a3aa-1e53-4849-90ef-b5be1daa3d92",
   "metadata": {},
   "outputs": [
    {
     "name": "stdout",
     "output_type": "stream",
     "text": [
      "Classification Report:\n",
      "              precision    recall  f1-score   support\n",
      "\n",
      "No Churn (0)       0.85      0.89      0.87      1033\n",
      "   Churn (1)       0.65      0.57      0.61       374\n",
      "\n",
      "    accuracy                           0.80      1407\n",
      "   macro avg       0.75      0.73      0.74      1407\n",
      "weighted avg       0.80      0.80      0.80      1407\n",
      "\n",
      "\n",
      "Confusion Matrix:\n",
      "[[916 117]\n",
      " [159 215]]\n",
      "\n",
      "Model successfully identified 215 true churners (TP).\n",
      "Model missed 159 churners (FN) - this is the business risk.\n"
     ]
    }
   ],
   "source": [
    "from sklearn.metrics import confusion_matrix, classification_report\n",
    "\n",
    "# Print the full classification report\n",
    "print(\"Classification Report:\")\n",
    "print(classification_report(y_test, y_pred, target_names=['No Churn (0)', 'Churn (1)']))\n",
    "\n",
    "# Display the Confusion Matrix\n",
    "cm = confusion_matrix(y_test, y_pred)\n",
    "print(\"\\nConfusion Matrix:\")\n",
    "print(cm)\n",
    "\n",
    "# Functional Interpretation:\n",
    "# True Positives (TP): cm[1, 1] - Customers who were predicted to churn AND actually churned (SUCCESSFUL CATCH)\n",
    "# False Positives (FP): cm[0, 1] - Customers who were predicted to churn BUT DID NOT (wasted retention effort)\n",
    "# False Negatives (FN): cm[1, 0] - Customers who were NOT predicted to churn BUT ACTUALLY CHURNED (MISSED OPPORTUNITY)\n",
    "print(f\"\\nModel successfully identified {cm[1, 1]} true churners (TP).\")\n",
    "print(f\"Model missed {cm[1, 0]} churners (FN) - this is the business risk.\")"
   ]
  },
  {
   "cell_type": "code",
   "execution_count": 22,
   "id": "f8fbdec7-71a0-4c9d-a540-2115a4ebca0a",
   "metadata": {},
   "outputs": [
    {
     "name": "stdout",
     "output_type": "stream",
     "text": [
      "\n",
      "Top 10 Positive Predictors of CHURN (Functional Insights):\n",
      "                                  Feature  Coefficient\n",
      "10            InternetService_Fiber optic        0.742\n",
      "28         PaymentMethod_Electronic check        0.393\n",
      "26                   PaperlessBilling_Yes        0.295\n",
      "9                       MultipleLines_Yes        0.293\n",
      "8          MultipleLines_No phone service        0.252\n",
      "21                        StreamingTV_Yes        0.228\n",
      "23                    StreamingMovies_Yes        0.200\n",
      "0                           SeniorCitizen        0.197\n",
      "29             PaymentMethod_Mailed check        0.079\n",
      "27  PaymentMethod_Credit card (automatic)        0.046\n",
      "\n",
      "Top 10 Negative Predictors of CHURN (Retention Factors):\n",
      "                                Feature  Coefficient\n",
      "18      TechSupport_No internet service       -0.117\n",
      "20      StreamingTV_No internet service       -0.117\n",
      "22  StreamingMovies_No internet service       -0.117\n",
      "15                     OnlineBackup_Yes       -0.199\n",
      "6                        Dependents_Yes       -0.229\n",
      "7                      PhoneService_Yes       -0.363\n",
      "19                      TechSupport_Yes       -0.408\n",
      "13                   OnlineSecurity_Yes       -0.445\n",
      "24                    Contract_One year       -0.759\n",
      "25                    Contract_Two year       -1.382\n"
     ]
    }
   ],
   "source": [
    "import numpy as np\n",
    "\n",
    "# Get feature coefficients (importance) from the Logistic Regression model\n",
    "coefficients = log_reg_model.coef_[0]\n",
    "feature_names = X_encoded.columns\n",
    "\n",
    "# Create a DataFrame for easy viewing and sorting\n",
    "feature_importance = pd.DataFrame({\n",
    "    'Feature': feature_names,\n",
    "    'Coefficient': coefficients\n",
    "}).sort_values(by='Coefficient', ascending=False)\n",
    "\n",
    "print(\"\\nTop 10 Positive Predictors of CHURN (Functional Insights):\")\n",
    "# Positive coefficient means it increases the probability of churn (1)\n",
    "print(feature_importance.head(10).round(3))\n",
    "\n",
    "print(\"\\nTop 10 Negative Predictors of CHURN (Retention Factors):\")\n",
    "# Negative coefficient means it decreases the probability of churn (1) / increases retention\n",
    "print(feature_importance.tail(10).round(3))"
   ]
  },
  {
   "cell_type": "code",
   "execution_count": 24,
   "id": "610d9e39-014d-4774-b281-8ed7f6a703b0",
   "metadata": {},
   "outputs": [
    {
     "name": "stdout",
     "output_type": "stream",
     "text": [
      "\n",
      "Model successfully saved to: ..\\models\\churn_predictor_log_reg.pkl\n"
     ]
    }
   ],
   "source": [
    "import joblib\n",
    "import os\n",
    "\n",
    "# Define the path to save the model\n",
    "model_path = os.path.join('..', 'models', 'churn_predictor_log_reg.pkl')\n",
    "\n",
    "# Save the model object\n",
    "joblib.dump(log_reg_model, model_path)\n",
    "print(f\"\\nModel successfully saved to: {model_path}\")"
   ]
  },
  {
   "cell_type": "code",
   "execution_count": null,
   "id": "8f2a6fdb-3d05-485c-8a25-5286c4656f96",
   "metadata": {},
   "outputs": [],
   "source": []
  }
 ],
 "metadata": {
  "kernelspec": {
   "display_name": "Python 3 (ipykernel)",
   "language": "python",
   "name": "python3"
  },
  "language_info": {
   "codemirror_mode": {
    "name": "ipython",
    "version": 3
   },
   "file_extension": ".py",
   "mimetype": "text/x-python",
   "name": "python",
   "nbconvert_exporter": "python",
   "pygments_lexer": "ipython3",
   "version": "3.12.7"
  }
 },
 "nbformat": 4,
 "nbformat_minor": 5
}
